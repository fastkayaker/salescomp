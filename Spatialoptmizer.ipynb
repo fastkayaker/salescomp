{
 "cells": [
  {
   "cell_type": "code",
   "execution_count": 2,
   "id": "95d89b9f-103d-41b9-bd4e-004487894fcb",
   "metadata": {},
   "outputs": [
    {
     "ename": "ModuleNotFoundError",
     "evalue": "No module named 'geopandas'",
     "output_type": "error",
     "traceback": [
      "\u001b[0;31m---------------------------------------------------------------------------\u001b[0m",
      "\u001b[0;31mModuleNotFoundError\u001b[0m                       Traceback (most recent call last)",
      "\u001b[0;32m/var/folders/_2/zs73z0hj4317k281kr7sjpcr0000gn/T/ipykernel_20177/3681099875.py\u001b[0m in \u001b[0;36m<module>\u001b[0;34m\u001b[0m\n\u001b[1;32m      7\u001b[0m \u001b[0;34m\u001b[0m\u001b[0m\n\u001b[1;32m      8\u001b[0m \u001b[0;31m#!pip install geopandas\u001b[0m\u001b[0;34m\u001b[0m\u001b[0;34m\u001b[0m\u001b[0m\n\u001b[0;32m----> 9\u001b[0;31m \u001b[0;32mimport\u001b[0m \u001b[0mgeopandas\u001b[0m\u001b[0;34m\u001b[0m\u001b[0;34m\u001b[0m\u001b[0m\n\u001b[0m\u001b[1;32m     10\u001b[0m \u001b[0;34m\u001b[0m\u001b[0m\n\u001b[1;32m     11\u001b[0m \u001b[0;31m#!pip install contextily\u001b[0m\u001b[0;34m\u001b[0m\u001b[0;34m\u001b[0m\u001b[0m\n",
      "\u001b[0;31mModuleNotFoundError\u001b[0m: No module named 'geopandas'"
     ]
    }
   ],
   "source": [
    "import numpy as np\n",
    "import pandas as pd \n",
    "import matplotlib.pyplot as plt#visualization\n",
    "%matplotlib inline\n",
    "import seaborn as sns\n",
    "#import fiona\n",
    "\n",
    "#!pip install geopandas\n",
    "import geopandas\n",
    "\n",
    "#!pip install contextily\n",
    "import contextily as ctx\n"
   ]
  },
  {
   "cell_type": "code",
   "execution_count": null,
   "id": "ee165334-9ff1-4e5d-ba7f-419f43aa2dfc",
   "metadata": {},
   "outputs": [],
   "source": [
    "#https://github.com/pysal/spopt\n",
    "#https://colab.research.google.com/drive/1tCmXmeyD-jCzOFGzcfrW1PjjtduJt66x#scrollTo=TRHK1CqT-vrB\n",
    "#https://medium.com/analytics-vidhya/fastest-way-to-install-geopandas-in-jupyter-notebook-on-windows-8f734e11fa2b"
   ]
  },
  {
   "cell_type": "code",
   "execution_count": null,
   "id": "27c80150-58db-4069-8fd5-76435f132798",
   "metadata": {},
   "outputs": [],
   "source": [
    "#Goal\n",
    "    #Based on budget regional data, whats teh highest target, "
   ]
  }
 ],
 "metadata": {
  "kernelspec": {
   "display_name": "Python 3 (ipykernel)",
   "language": "python",
   "name": "python3"
  },
  "language_info": {
   "codemirror_mode": {
    "name": "ipython",
    "version": 3
   },
   "file_extension": ".py",
   "mimetype": "text/x-python",
   "name": "python",
   "nbconvert_exporter": "python",
   "pygments_lexer": "ipython3",
   "version": "3.9.7"
  }
 },
 "nbformat": 4,
 "nbformat_minor": 5
}
